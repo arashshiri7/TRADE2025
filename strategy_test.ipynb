{
 "cells": [
  {
   "cell_type": "code",
   "execution_count": null,
   "id": "46b4ebef",
   "metadata": {},
   "outputs": [],
   "source": [
    "# %%\n",
    "import yfinance as yf\n",
    "import pandas as pd\n",
    "from datetime import datetime, timedelta\n",
    "\n",
    "# 1. تعریف پارامترهای دیتا\n",
    "# نماد جفت ارز در یاهو فایننس به صورت Ticker=X است\n",
    "ticker = \"AUDUSD=X\" \n",
    "\n",
    "# محاسبه تاریخ شروع (دقیقا یک سال قبل از امروز)\n",
    "end_date = datetime.now()\n",
    "start_date = end_date - timedelta(days=365)\n",
    "\n",
    "# 2. دانلود دیتا با استفاده از yfinance\n",
    "print(f\"در حال دانلود دیتای {ticker} از تاریخ {start_date.strftime('%Y-%m-%d')} تا {end_date.strftime('%Y-%m-%d')}...\")\n",
    "\n",
    "# تابع download اطلاعات را در یک pandas DataFrame میریزد\n",
    "audusd_data = yf.download(ticker, start=start_date, end=end_date)\n",
    "\n",
    "# 3. نمایش چند سطر اول و آخر دیتا برای بررسی\n",
    "print(\"\\nچند ردیف اول دیتا:\")\n",
    "print(audusd_data.head())\n",
    "\n",
    "print(\"\\nچند ردیف آخر دیتا:\")\n",
    "print(audusd_data.tail())\n",
    "\n",
    "# بررسی تعداد کل ردیف های دریافت شده\n",
    "print(f\"\\nتعداد {len(audusd_data)} کندل روزانه دریافت شد.\")\n",
    "\n",
    "# Commit for data download branch - 2025-07-30\n",
    "\n",
    "      "
   ]
  },
  {
   "cell_type": "code",
   "execution_count": null,
   "id": "1bbdfb23",
   "metadata": {},
   "outputs": [],
   "source": []
  },
  {
   "cell_type": "code",
   "execution_count": null,
   "id": "aa040cc7",
   "metadata": {},
   "outputs": [],
   "source": []
  },
  {
   "cell_type": "code",
   "execution_count": null,
   "id": "732eafae",
   "metadata": {},
   "outputs": [],
   "source": [
    "print(audusd_data.columns)"
   ]
  },
  {
   "cell_type": "code",
   "execution_count": null,
   "id": "43adcf56",
   "metadata": {},
   "outputs": [],
   "source": [
    "# --- Standardize and Flatten Column Names ---\n",
    "\n",
    "# 1. Check if columns are a MultiIndex and flatten them\n",
    "if isinstance(audusd_data.columns, pd.MultiIndex):\n",
    "    print(\"MultiIndex detected. Flattening column names...\")\n",
    "    # Keep only the first level of the column names (e.g., 'Open' from ('Open', 'Ticker'))\n",
    "    audusd_data.columns = audusd_data.columns.get_level_values(0)\n",
    "\n",
    "# 2. Now that names are simple strings, convert them to lowercase\n",
    "audusd_data.columns = [str(col).lower() for col in audusd_data.columns]\n",
    "\n",
    "# 3. Print the final, clean column names to confirm\n",
    "print(\"\\nFinal standardized column names:\")\n",
    "print(audusd_data.columns)\n",
    "\n",
    "# 4. Now, the dropna() command will work perfectly\n",
    "audusd_data.dropna(subset=['open', 'high', 'low', 'close'], inplace=True)\n",
    "\n",
    "print(f\"\\nRows after cleaning: {len(audusd_data)}\")\n",
    "print(\"✅ Missing data successfully removed.\")"
   ]
  },
  {
   "cell_type": "code",
   "execution_count": null,
   "id": "16b396cb",
   "metadata": {},
   "outputs": [],
   "source": [
    "# --- Remove Duplicate Data Step ---\n",
    "\n",
    "print(f\"Rows before checking for duplicates: {len(audusd_data)}\")\n",
    "\n",
    "# Remove any rows that have a duplicated index (Date)\n",
    "audusd_data = audusd_data[~audusd_data.index.duplicated(keep='first')]\n",
    "\n",
    "print(f\"Rows after checking for duplicates: {len(audusd_data)}\")\n",
    "print(\"\\n✅ Duplicate data check complete.\")"
   ]
  },
  {
   "cell_type": "code",
   "execution_count": null,
   "id": "d476f509",
   "metadata": {},
   "outputs": [],
   "source": [
    "# Just type the variable name in the last line of the cell\n",
    "audusd_data.head()"
   ]
  },
  {
   "cell_type": "code",
   "execution_count": null,
   "id": "e026e92d",
   "metadata": {},
   "outputs": [],
   "source": [
    "# Drop only the 'volume' column\n",
    "audusd_data.drop(columns=['volume'], inplace=True)\n",
    "audusd_data.head()"
   ]
  },
  {
   "cell_type": "code",
   "execution_count": null,
   "id": "9acc3ace",
   "metadata": {},
   "outputs": [],
   "source": [
    "audusd_data.info()"
   ]
  },
  {
   "cell_type": "code",
   "execution_count": null,
   "id": "47485fdc",
   "metadata": {},
   "outputs": [],
   "source": [
    "# Check the statistics of the data\n",
    "audusd_data.describe()"
   ]
  },
  {
   "cell_type": "code",
   "execution_count": null,
   "id": "8d39de0a",
   "metadata": {},
   "outputs": [],
   "source": []
  }
 ],
 "metadata": {
  "kernelspec": {
   "display_name": "algotrading",
   "language": "python",
   "name": "python3"
  },
  "language_info": {
   "codemirror_mode": {
    "name": "ipython",
    "version": 3
   },
   "file_extension": ".py",
   "mimetype": "text/x-python",
   "name": "python",
   "nbconvert_exporter": "python",
   "pygments_lexer": "ipython3",
   "version": "3.13.2"
  }
 },
 "nbformat": 4,
 "nbformat_minor": 5
}
