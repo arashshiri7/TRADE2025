{
 "cells": [
  {
   "cell_type": "code",
   "execution_count": 2,
   "id": "46b4ebef",
   "metadata": {},
   "outputs": [
    {
     "name": "stdout",
     "output_type": "stream",
     "text": [
      "در حال دانلود دیتای AUDUSD=X از تاریخ 2024-07-30 تا 2025-07-30...\n"
     ]
    },
    {
     "name": "stderr",
     "output_type": "stream",
     "text": [
      "C:\\Users\\SHOCK\\AppData\\Local\\Temp\\ipykernel_7640\\2108819339.py:18: FutureWarning: YF.download() has changed argument auto_adjust default to True\n",
      "  audusd_data = yf.download(ticker, start=start_date, end=end_date)\n",
      "[*********************100%***********************]  1 of 1 completed"
     ]
    },
    {
     "name": "stdout",
     "output_type": "stream",
     "text": [
      "\n",
      "چند ردیف اول دیتا:\n",
      "Price          Close      High       Low      Open   Volume\n",
      "Ticker      AUDUSD=X  AUDUSD=X  AUDUSD=X  AUDUSD=X AUDUSD=X\n",
      "Date                                                       \n",
      "2024-07-30  0.655141  0.656300  0.653000  0.655141        0\n",
      "2024-07-31  0.654150  0.654220  0.648030  0.654150        0\n",
      "2024-08-01  0.654700  0.655990  0.651470  0.654700        0\n",
      "2024-08-02  0.649490  0.654760  0.648770  0.649490        0\n",
      "2024-08-05  0.649722  0.651088  0.636549  0.649722        0\n",
      "\n",
      "چند ردیف آخر دیتا:\n",
      "Price          Close      High       Low      Open   Volume\n",
      "Ticker      AUDUSD=X  AUDUSD=X  AUDUSD=X  AUDUSD=X AUDUSD=X\n",
      "Date                                                       \n",
      "2025-07-24  0.660400  0.662515  0.659722  0.660300        0\n",
      "2025-07-25  0.659718  0.659900  0.655330  0.659561        0\n",
      "2025-07-28  0.657298  0.658700  0.651630  0.657289        0\n",
      "2025-07-29  0.652401  0.653000  0.649640  0.652061        0\n",
      "2025-07-30  0.646249  0.653036  0.645136  0.651466        0\n",
      "\n",
      "تعداد 259 کندل روزانه دریافت شد.\n"
     ]
    },
    {
     "name": "stderr",
     "output_type": "stream",
     "text": [
      "\n"
     ]
    }
   ],
   "source": [
    "# %%\n",
    "import yfinance as yf\n",
    "import pandas as pd\n",
    "from datetime import datetime, timedelta\n",
    "\n",
    "# 1. تعریف پارامترهای دیتا\n",
    "# نماد جفت ارز در یاهو فایننس به صورت Ticker=X است\n",
    "ticker = \"AUDUSD=X\" \n",
    "\n",
    "# محاسبه تاریخ شروع (دقیقا یک سال قبل از امروز)\n",
    "end_date = datetime.now()\n",
    "start_date = end_date - timedelta(days=365)\n",
    "\n",
    "# 2. دانلود دیتا با استفاده از yfinance\n",
    "print(f\"در حال دانلود دیتای {ticker} از تاریخ {start_date.strftime('%Y-%m-%d')} تا {end_date.strftime('%Y-%m-%d')}...\")\n",
    "\n",
    "# تابع download اطلاعات را در یک pandas DataFrame میریزد\n",
    "audusd_data = yf.download(ticker, start=start_date, end=end_date)\n",
    "\n",
    "# 3. نمایش چند سطر اول و آخر دیتا برای بررسی\n",
    "print(\"\\nچند ردیف اول دیتا:\")\n",
    "print(audusd_data.head())\n",
    "\n",
    "print(\"\\nچند ردیف آخر دیتا:\")\n",
    "print(audusd_data.tail())\n",
    "\n",
    "# بررسی تعداد کل ردیف های دریافت شده\n",
    "print(f\"\\nتعداد {len(audusd_data)} کندل روزانه دریافت شد.\")\n",
    "\n",
    "# Commit for data download branch - 2025-07-30\n",
    "\n",
    "      "
   ]
  },
  {
   "cell_type": "code",
   "execution_count": 3,
   "id": "732eafae",
   "metadata": {},
   "outputs": [
    {
     "name": "stdout",
     "output_type": "stream",
     "text": [
      "MultiIndex([( 'Close', 'AUDUSD=X'),\n",
      "            (  'High', 'AUDUSD=X'),\n",
      "            (   'Low', 'AUDUSD=X'),\n",
      "            (  'Open', 'AUDUSD=X'),\n",
      "            ('Volume', 'AUDUSD=X')],\n",
      "           names=['Price', 'Ticker'])\n"
     ]
    }
   ],
   "source": [
    "print(audusd_data.columns)"
   ]
  },
  {
   "cell_type": "code",
   "execution_count": 4,
   "id": "43adcf56",
   "metadata": {},
   "outputs": [
    {
     "name": "stdout",
     "output_type": "stream",
     "text": [
      "MultiIndex detected. Flattening column names...\n",
      "\n",
      "Final standardized column names:\n",
      "Index(['close', 'high', 'low', 'open', 'volume'], dtype='object')\n",
      "\n",
      "Rows after cleaning: 259\n",
      "✅ Missing data successfully removed.\n"
     ]
    }
   ],
   "source": [
    "# --- Standardize and Flatten Column Names ---\n",
    "\n",
    "# 1. Check if columns are a MultiIndex and flatten them\n",
    "if isinstance(audusd_data.columns, pd.MultiIndex):\n",
    "    print(\"MultiIndex detected. Flattening column names...\")\n",
    "    # Keep only the first level of the column names (e.g., 'Open' from ('Open', 'Ticker'))\n",
    "    audusd_data.columns = audusd_data.columns.get_level_values(0)\n",
    "\n",
    "# 2. Now that names are simple strings, convert them to lowercase\n",
    "audusd_data.columns = [str(col).lower() for col in audusd_data.columns]\n",
    "\n",
    "# 3. Print the final, clean column names to confirm\n",
    "print(\"\\nFinal standardized column names:\")\n",
    "print(audusd_data.columns)\n",
    "\n",
    "# 4. Now, the dropna() command will work perfectly\n",
    "audusd_data.dropna(subset=['open', 'high', 'low', 'close'], inplace=True)\n",
    "\n",
    "print(f\"\\nRows after cleaning: {len(audusd_data)}\")\n",
    "print(\"✅ Missing data successfully removed.\")"
   ]
  },
  {
   "cell_type": "code",
   "execution_count": null,
   "id": "16b396cb",
   "metadata": {},
   "outputs": [],
   "source": []
  }
 ],
 "metadata": {
  "kernelspec": {
   "display_name": "algotrading",
   "language": "python",
   "name": "python3"
  },
  "language_info": {
   "codemirror_mode": {
    "name": "ipython",
    "version": 3
   },
   "file_extension": ".py",
   "mimetype": "text/x-python",
   "name": "python",
   "nbconvert_exporter": "python",
   "pygments_lexer": "ipython3",
   "version": "3.13.2"
  }
 },
 "nbformat": 4,
 "nbformat_minor": 5
}
