{
 "cells": [
  {
   "cell_type": "code",
   "execution_count": 1,
   "id": "46b4ebef",
   "metadata": {},
   "outputs": [
    {
     "name": "stdout",
     "output_type": "stream",
     "text": [
      "در حال دانلود دیتای AUDUSD=X از تاریخ 2024-07-31 تا 2025-07-31...\n"
     ]
    },
    {
     "name": "stderr",
     "output_type": "stream",
     "text": [
      "C:\\Users\\SHOCK\\AppData\\Local\\Temp\\ipykernel_4888\\2108819339.py:18: FutureWarning: YF.download() has changed argument auto_adjust default to True\n",
      "  audusd_data = yf.download(ticker, start=start_date, end=end_date)\n",
      "[*********************100%***********************]  1 of 1 completed"
     ]
    },
    {
     "name": "stdout",
     "output_type": "stream",
     "text": [
      "\n",
      "چند ردیف اول دیتا:\n",
      "Price          Close      High       Low      Open   Volume\n",
      "Ticker      AUDUSD=X  AUDUSD=X  AUDUSD=X  AUDUSD=X AUDUSD=X\n",
      "Date                                                       \n",
      "2024-07-31  0.654150  0.654220  0.648030  0.654150        0\n",
      "2024-08-01  0.654700  0.655990  0.651470  0.654700        0\n",
      "2024-08-02  0.649490  0.654760  0.648770  0.649490        0\n",
      "2024-08-05  0.649722  0.651088  0.636549  0.649722        0\n",
      "2024-08-06  0.651550  0.653971  0.647501  0.651550        0\n",
      "\n",
      "چند ردیف آخر دیتا:\n",
      "Price          Close      High       Low      Open   Volume\n",
      "Ticker      AUDUSD=X  AUDUSD=X  AUDUSD=X  AUDUSD=X AUDUSD=X\n",
      "Date                                                       \n",
      "2025-07-25  0.659718  0.659900  0.655330  0.659561        0\n",
      "2025-07-28  0.657298  0.658700  0.651630  0.657289        0\n",
      "2025-07-29  0.652401  0.653000  0.649640  0.652061        0\n",
      "2025-07-30  0.651322  0.652910  0.644920  0.651521        0\n",
      "2025-07-31  0.643165  0.647794  0.642897  0.643832        0\n",
      "\n",
      "تعداد 259 کندل روزانه دریافت شد.\n"
     ]
    },
    {
     "name": "stderr",
     "output_type": "stream",
     "text": [
      "\n"
     ]
    }
   ],
   "source": [
    "# %%\n",
    "import yfinance as yf\n",
    "import pandas as pd\n",
    "from datetime import datetime, timedelta\n",
    "\n",
    "# 1. تعریف پارامترهای دیتا\n",
    "# نماد جفت ارز در یاهو فایننس به صورت Ticker=X است\n",
    "ticker = \"AUDUSD=X\" \n",
    "\n",
    "# محاسبه تاریخ شروع (دقیقا یک سال قبل از امروز)\n",
    "end_date = datetime.now()\n",
    "start_date = end_date - timedelta(days=365)\n",
    "\n",
    "# 2. دانلود دیتا با استفاده از yfinance\n",
    "print(f\"در حال دانلود دیتای {ticker} از تاریخ {start_date.strftime('%Y-%m-%d')} تا {end_date.strftime('%Y-%m-%d')}...\")\n",
    "\n",
    "# تابع download اطلاعات را در یک pandas DataFrame میریزد\n",
    "audusd_data = yf.download(ticker, start=start_date, end=end_date)\n",
    "\n",
    "# 3. نمایش چند سطر اول و آخر دیتا برای بررسی\n",
    "print(\"\\nچند ردیف اول دیتا:\")\n",
    "print(audusd_data.head())\n",
    "\n",
    "print(\"\\nچند ردیف آخر دیتا:\")\n",
    "print(audusd_data.tail())\n",
    "\n",
    "# بررسی تعداد کل ردیف های دریافت شده\n",
    "print(f\"\\nتعداد {len(audusd_data)} کندل روزانه دریافت شد.\")\n",
    "\n",
    "# Commit for data download branch - 2025-07-30\n",
    "\n",
    "      "
   ]
  },
  {
   "cell_type": "code",
   "execution_count": null,
   "id": "1bbdfb23",
   "metadata": {},
   "outputs": [],
   "source": []
  },
  {
   "cell_type": "code",
   "execution_count": null,
   "id": "aa040cc7",
   "metadata": {},
   "outputs": [],
   "source": []
  },
  {
   "cell_type": "code",
   "execution_count": 2,
   "id": "732eafae",
   "metadata": {},
   "outputs": [
    {
     "name": "stdout",
     "output_type": "stream",
     "text": [
      "MultiIndex([( 'Close', 'AUDUSD=X'),\n",
      "            (  'High', 'AUDUSD=X'),\n",
      "            (   'Low', 'AUDUSD=X'),\n",
      "            (  'Open', 'AUDUSD=X'),\n",
      "            ('Volume', 'AUDUSD=X')],\n",
      "           names=['Price', 'Ticker'])\n"
     ]
    }
   ],
   "source": [
    "print(audusd_data.columns)"
   ]
  },
  {
   "cell_type": "code",
   "execution_count": 3,
   "id": "43adcf56",
   "metadata": {},
   "outputs": [
    {
     "name": "stdout",
     "output_type": "stream",
     "text": [
      "MultiIndex detected. Flattening column names...\n",
      "\n",
      "Final standardized column names:\n",
      "Index(['close', 'high', 'low', 'open', 'volume'], dtype='object')\n",
      "\n",
      "Rows after cleaning: 259\n",
      "✅ Missing data successfully removed.\n"
     ]
    }
   ],
   "source": [
    "# --- Standardize and Flatten Column Names ---\n",
    "\n",
    "# 1. Check if columns are a MultiIndex and flatten them\n",
    "if isinstance(audusd_data.columns, pd.MultiIndex):\n",
    "    print(\"MultiIndex detected. Flattening column names...\")\n",
    "    # Keep only the first level of the column names (e.g., 'Open' from ('Open', 'Ticker'))\n",
    "    audusd_data.columns = audusd_data.columns.get_level_values(0)\n",
    "\n",
    "# 2. Now that names are simple strings, convert them to lowercase\n",
    "audusd_data.columns = [str(col).lower() for col in audusd_data.columns]\n",
    "\n",
    "# 3. Print the final, clean column names to confirm\n",
    "print(\"\\nFinal standardized column names:\")\n",
    "print(audusd_data.columns)\n",
    "\n",
    "# 4. Now, the dropna() command will work perfectly\n",
    "audusd_data.dropna(subset=['open', 'high', 'low', 'close'], inplace=True)\n",
    "\n",
    "print(f\"\\nRows after cleaning: {len(audusd_data)}\")\n",
    "print(\"✅ Missing data successfully removed.\")"
   ]
  },
  {
   "cell_type": "code",
   "execution_count": 4,
   "id": "16b396cb",
   "metadata": {},
   "outputs": [
    {
     "name": "stdout",
     "output_type": "stream",
     "text": [
      "Rows before checking for duplicates: 259\n",
      "Rows after checking for duplicates: 259\n",
      "\n",
      "✅ Duplicate data check complete.\n"
     ]
    }
   ],
   "source": [
    "# --- Remove Duplicate Data Step ---\n",
    "\n",
    "print(f\"Rows before checking for duplicates: {len(audusd_data)}\")\n",
    "\n",
    "# Remove any rows that have a duplicated index (Date)\n",
    "audusd_data = audusd_data[~audusd_data.index.duplicated(keep='first')]\n",
    "\n",
    "print(f\"Rows after checking for duplicates: {len(audusd_data)}\")\n",
    "print(\"\\n✅ Duplicate data check complete.\")"
   ]
  },
  {
   "cell_type": "code",
   "execution_count": 5,
   "id": "d476f509",
   "metadata": {},
   "outputs": [
    {
     "data": {
      "text/html": [
       "<div>\n",
       "<style scoped>\n",
       "    .dataframe tbody tr th:only-of-type {\n",
       "        vertical-align: middle;\n",
       "    }\n",
       "\n",
       "    .dataframe tbody tr th {\n",
       "        vertical-align: top;\n",
       "    }\n",
       "\n",
       "    .dataframe thead th {\n",
       "        text-align: right;\n",
       "    }\n",
       "</style>\n",
       "<table border=\"1\" class=\"dataframe\">\n",
       "  <thead>\n",
       "    <tr style=\"text-align: right;\">\n",
       "      <th></th>\n",
       "      <th>close</th>\n",
       "      <th>high</th>\n",
       "      <th>low</th>\n",
       "      <th>open</th>\n",
       "      <th>volume</th>\n",
       "    </tr>\n",
       "    <tr>\n",
       "      <th>Date</th>\n",
       "      <th></th>\n",
       "      <th></th>\n",
       "      <th></th>\n",
       "      <th></th>\n",
       "      <th></th>\n",
       "    </tr>\n",
       "  </thead>\n",
       "  <tbody>\n",
       "    <tr>\n",
       "      <th>2024-07-31</th>\n",
       "      <td>0.654150</td>\n",
       "      <td>0.654220</td>\n",
       "      <td>0.648030</td>\n",
       "      <td>0.654150</td>\n",
       "      <td>0</td>\n",
       "    </tr>\n",
       "    <tr>\n",
       "      <th>2024-08-01</th>\n",
       "      <td>0.654700</td>\n",
       "      <td>0.655990</td>\n",
       "      <td>0.651470</td>\n",
       "      <td>0.654700</td>\n",
       "      <td>0</td>\n",
       "    </tr>\n",
       "    <tr>\n",
       "      <th>2024-08-02</th>\n",
       "      <td>0.649490</td>\n",
       "      <td>0.654760</td>\n",
       "      <td>0.648770</td>\n",
       "      <td>0.649490</td>\n",
       "      <td>0</td>\n",
       "    </tr>\n",
       "    <tr>\n",
       "      <th>2024-08-05</th>\n",
       "      <td>0.649722</td>\n",
       "      <td>0.651088</td>\n",
       "      <td>0.636549</td>\n",
       "      <td>0.649722</td>\n",
       "      <td>0</td>\n",
       "    </tr>\n",
       "    <tr>\n",
       "      <th>2024-08-06</th>\n",
       "      <td>0.651550</td>\n",
       "      <td>0.653971</td>\n",
       "      <td>0.647501</td>\n",
       "      <td>0.651550</td>\n",
       "      <td>0</td>\n",
       "    </tr>\n",
       "  </tbody>\n",
       "</table>\n",
       "</div>"
      ],
      "text/plain": [
       "               close      high       low      open  volume\n",
       "Date                                                      \n",
       "2024-07-31  0.654150  0.654220  0.648030  0.654150       0\n",
       "2024-08-01  0.654700  0.655990  0.651470  0.654700       0\n",
       "2024-08-02  0.649490  0.654760  0.648770  0.649490       0\n",
       "2024-08-05  0.649722  0.651088  0.636549  0.649722       0\n",
       "2024-08-06  0.651550  0.653971  0.647501  0.651550       0"
      ]
     },
     "execution_count": 5,
     "metadata": {},
     "output_type": "execute_result"
    }
   ],
   "source": [
    "# Just type the variable name in the last line of the cell\n",
    "audusd_data.head()"
   ]
  },
  {
   "cell_type": "code",
   "execution_count": 6,
   "id": "e026e92d",
   "metadata": {},
   "outputs": [
    {
     "data": {
      "text/html": [
       "<div>\n",
       "<style scoped>\n",
       "    .dataframe tbody tr th:only-of-type {\n",
       "        vertical-align: middle;\n",
       "    }\n",
       "\n",
       "    .dataframe tbody tr th {\n",
       "        vertical-align: top;\n",
       "    }\n",
       "\n",
       "    .dataframe thead th {\n",
       "        text-align: right;\n",
       "    }\n",
       "</style>\n",
       "<table border=\"1\" class=\"dataframe\">\n",
       "  <thead>\n",
       "    <tr style=\"text-align: right;\">\n",
       "      <th></th>\n",
       "      <th>close</th>\n",
       "      <th>high</th>\n",
       "      <th>low</th>\n",
       "      <th>open</th>\n",
       "    </tr>\n",
       "    <tr>\n",
       "      <th>Date</th>\n",
       "      <th></th>\n",
       "      <th></th>\n",
       "      <th></th>\n",
       "      <th></th>\n",
       "    </tr>\n",
       "  </thead>\n",
       "  <tbody>\n",
       "    <tr>\n",
       "      <th>2024-07-31</th>\n",
       "      <td>0.654150</td>\n",
       "      <td>0.654220</td>\n",
       "      <td>0.648030</td>\n",
       "      <td>0.654150</td>\n",
       "    </tr>\n",
       "    <tr>\n",
       "      <th>2024-08-01</th>\n",
       "      <td>0.654700</td>\n",
       "      <td>0.655990</td>\n",
       "      <td>0.651470</td>\n",
       "      <td>0.654700</td>\n",
       "    </tr>\n",
       "    <tr>\n",
       "      <th>2024-08-02</th>\n",
       "      <td>0.649490</td>\n",
       "      <td>0.654760</td>\n",
       "      <td>0.648770</td>\n",
       "      <td>0.649490</td>\n",
       "    </tr>\n",
       "    <tr>\n",
       "      <th>2024-08-05</th>\n",
       "      <td>0.649722</td>\n",
       "      <td>0.651088</td>\n",
       "      <td>0.636549</td>\n",
       "      <td>0.649722</td>\n",
       "    </tr>\n",
       "    <tr>\n",
       "      <th>2024-08-06</th>\n",
       "      <td>0.651550</td>\n",
       "      <td>0.653971</td>\n",
       "      <td>0.647501</td>\n",
       "      <td>0.651550</td>\n",
       "    </tr>\n",
       "  </tbody>\n",
       "</table>\n",
       "</div>"
      ],
      "text/plain": [
       "               close      high       low      open\n",
       "Date                                              \n",
       "2024-07-31  0.654150  0.654220  0.648030  0.654150\n",
       "2024-08-01  0.654700  0.655990  0.651470  0.654700\n",
       "2024-08-02  0.649490  0.654760  0.648770  0.649490\n",
       "2024-08-05  0.649722  0.651088  0.636549  0.649722\n",
       "2024-08-06  0.651550  0.653971  0.647501  0.651550"
      ]
     },
     "execution_count": 6,
     "metadata": {},
     "output_type": "execute_result"
    }
   ],
   "source": [
    "# Drop only the 'volume' column\n",
    "audusd_data.drop(columns=['volume'], inplace=True)\n",
    "audusd_data.head()"
   ]
  },
  {
   "cell_type": "code",
   "execution_count": 7,
   "id": "9acc3ace",
   "metadata": {},
   "outputs": [
    {
     "name": "stdout",
     "output_type": "stream",
     "text": [
      "<class 'pandas.core.frame.DataFrame'>\n",
      "DatetimeIndex: 259 entries, 2024-07-31 to 2025-07-31\n",
      "Data columns (total 4 columns):\n",
      " #   Column  Non-Null Count  Dtype  \n",
      "---  ------  --------------  -----  \n",
      " 0   close   259 non-null    float64\n",
      " 1   high    259 non-null    float64\n",
      " 2   low     259 non-null    float64\n",
      " 3   open    259 non-null    float64\n",
      "dtypes: float64(4)\n",
      "memory usage: 10.1 KB\n"
     ]
    }
   ],
   "source": [
    "audusd_data.info()"
   ]
  },
  {
   "cell_type": "code",
   "execution_count": 8,
   "id": "47485fdc",
   "metadata": {},
   "outputs": [
    {
     "data": {
      "text/html": [
       "<div>\n",
       "<style scoped>\n",
       "    .dataframe tbody tr th:only-of-type {\n",
       "        vertical-align: middle;\n",
       "    }\n",
       "\n",
       "    .dataframe tbody tr th {\n",
       "        vertical-align: top;\n",
       "    }\n",
       "\n",
       "    .dataframe thead th {\n",
       "        text-align: right;\n",
       "    }\n",
       "</style>\n",
       "<table border=\"1\" class=\"dataframe\">\n",
       "  <thead>\n",
       "    <tr style=\"text-align: right;\">\n",
       "      <th></th>\n",
       "      <th>close</th>\n",
       "      <th>high</th>\n",
       "      <th>low</th>\n",
       "      <th>open</th>\n",
       "    </tr>\n",
       "  </thead>\n",
       "  <tbody>\n",
       "    <tr>\n",
       "      <th>count</th>\n",
       "      <td>259.000000</td>\n",
       "      <td>259.000000</td>\n",
       "      <td>259.000000</td>\n",
       "      <td>259.000000</td>\n",
       "    </tr>\n",
       "    <tr>\n",
       "      <th>mean</th>\n",
       "      <td>0.646969</td>\n",
       "      <td>0.649785</td>\n",
       "      <td>0.644186</td>\n",
       "      <td>0.646962</td>\n",
       "    </tr>\n",
       "    <tr>\n",
       "      <th>std</th>\n",
       "      <td>0.018929</td>\n",
       "      <td>0.018536</td>\n",
       "      <td>0.019069</td>\n",
       "      <td>0.018920</td>\n",
       "    </tr>\n",
       "    <tr>\n",
       "      <th>min</th>\n",
       "      <td>0.595529</td>\n",
       "      <td>0.605860</td>\n",
       "      <td>0.592308</td>\n",
       "      <td>0.595500</td>\n",
       "    </tr>\n",
       "    <tr>\n",
       "      <th>25%</th>\n",
       "      <td>0.631385</td>\n",
       "      <td>0.633950</td>\n",
       "      <td>0.628229</td>\n",
       "      <td>0.631329</td>\n",
       "    </tr>\n",
       "    <tr>\n",
       "      <th>50%</th>\n",
       "      <td>0.647530</td>\n",
       "      <td>0.650030</td>\n",
       "      <td>0.644400</td>\n",
       "      <td>0.647522</td>\n",
       "    </tr>\n",
       "    <tr>\n",
       "      <th>75%</th>\n",
       "      <td>0.658300</td>\n",
       "      <td>0.659981</td>\n",
       "      <td>0.655740</td>\n",
       "      <td>0.658298</td>\n",
       "    </tr>\n",
       "    <tr>\n",
       "      <th>max</th>\n",
       "      <td>0.691879</td>\n",
       "      <td>0.694110</td>\n",
       "      <td>0.691410</td>\n",
       "      <td>0.691879</td>\n",
       "    </tr>\n",
       "  </tbody>\n",
       "</table>\n",
       "</div>"
      ],
      "text/plain": [
       "            close        high         low        open\n",
       "count  259.000000  259.000000  259.000000  259.000000\n",
       "mean     0.646969    0.649785    0.644186    0.646962\n",
       "std      0.018929    0.018536    0.019069    0.018920\n",
       "min      0.595529    0.605860    0.592308    0.595500\n",
       "25%      0.631385    0.633950    0.628229    0.631329\n",
       "50%      0.647530    0.650030    0.644400    0.647522\n",
       "75%      0.658300    0.659981    0.655740    0.658298\n",
       "max      0.691879    0.694110    0.691410    0.691879"
      ]
     },
     "execution_count": 8,
     "metadata": {},
     "output_type": "execute_result"
    }
   ],
   "source": [
    "# Check the statistics of the data\n",
    "audusd_data.describe()"
   ]
  },
  {
   "cell_type": "code",
   "execution_count": null,
   "id": "8d39de0a",
   "metadata": {},
   "outputs": [],
   "source": []
  }
 ],
 "metadata": {
  "kernelspec": {
   "display_name": "algotrading",
   "language": "python",
   "name": "python3"
  },
  "language_info": {
   "codemirror_mode": {
    "name": "ipython",
    "version": 3
   },
   "file_extension": ".py",
   "mimetype": "text/x-python",
   "name": "python",
   "nbconvert_exporter": "python",
   "pygments_lexer": "ipython3",
   "version": "3.13.2"
  }
 },
 "nbformat": 4,
 "nbformat_minor": 5
}
