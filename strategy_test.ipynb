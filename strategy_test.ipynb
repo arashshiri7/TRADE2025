{
 "cells": [
  {
   "cell_type": "code",
   "execution_count": null,
   "id": "46b4ebef",
   "metadata": {},
   "outputs": [
    {
     "name": "stdout",
     "output_type": "stream",
     "text": [
      "در حال دانلود دیتای AUDUSD=X از تاریخ 2024-07-30 تا 2025-07-30...\n"
     ]
    },
    {
     "name": "stderr",
     "output_type": "stream",
     "text": [
      "C:\\Users\\SHOCK\\AppData\\Local\\Temp\\ipykernel_14384\\3560714927.py:18: FutureWarning: YF.download() has changed argument auto_adjust default to True\n",
      "  audusd_data = yf.download(ticker, start=start_date, end=end_date)\n",
      "[*********************100%***********************]  1 of 1 completed"
     ]
    },
    {
     "name": "stdout",
     "output_type": "stream",
     "text": [
      "\n",
      "چند ردیف اول دیتا:\n",
      "Price          Close      High       Low      Open   Volume\n",
      "Ticker      AUDUSD=X  AUDUSD=X  AUDUSD=X  AUDUSD=X AUDUSD=X\n",
      "Date                                                       \n",
      "2024-07-30  0.655141  0.656300  0.653000  0.655141        0\n",
      "2024-07-31  0.654150  0.654220  0.648030  0.654150        0\n",
      "2024-08-01  0.654700  0.655990  0.651470  0.654700        0\n",
      "2024-08-02  0.649490  0.654760  0.648770  0.649490        0\n",
      "2024-08-05  0.649722  0.651088  0.636549  0.649722        0\n",
      "\n",
      "چند ردیف آخر دیتا:\n",
      "Price          Close      High       Low      Open   Volume\n",
      "Ticker      AUDUSD=X  AUDUSD=X  AUDUSD=X  AUDUSD=X AUDUSD=X\n",
      "Date                                                       \n",
      "2025-07-23  0.655471  0.660062  0.655102  0.655428        0\n",
      "2025-07-24  0.660400  0.662515  0.659722  0.660300        0\n",
      "2025-07-25  0.659718  0.659900  0.655330  0.659561        0\n",
      "2025-07-28  0.657298  0.658700  0.651630  0.657289        0\n",
      "2025-07-29  0.651500  0.653168  0.649798  0.652656        0\n",
      "\n",
      "تعداد 258 کندل روزانه دریافت شد.\n"
     ]
    },
    {
     "name": "stderr",
     "output_type": "stream",
     "text": [
      "\n"
     ]
    }
   ],
   "source": [
    "# %%\n",
    "import yfinance as yf\n",
    "import pandas as pd\n",
    "from datetime import datetime, timedelta\n",
    "\n",
    "# 1. تعریف پارامترهای دیتا\n",
    "# نماد جفت ارز در یاهو فایننس به صورت Ticker=X است\n",
    "ticker = \"AUDUSD=X\" \n",
    "\n",
    "# محاسبه تاریخ شروع (دقیقا یک سال قبل از امروز)\n",
    "end_date = datetime.now()\n",
    "start_date = end_date - timedelta(days=365)\n",
    "\n",
    "# 2. دانلود دیتا با استفاده از yfinance\n",
    "print(f\"در حال دانلود دیتای {ticker} از تاریخ {start_date.strftime('%Y-%m-%d')} تا {end_date.strftime('%Y-%m-%d')}...\")\n",
    "\n",
    "# تابع download اطلاعات را در یک pandas DataFrame میریزد\n",
    "audusd_data = yf.download(ticker, start=start_date, end=end_date)\n",
    "\n",
    "# 3. نمایش چند سطر اول و آخر دیتا برای بررسی\n",
    "print(\"\\nچند ردیف اول دیتا:\")\n",
    "print(audusd_data.head())\n",
    "\n",
    "print(\"\\nچند ردیف آخر دیتا:\")\n",
    "print(audusd_data.tail())\n",
    "\n",
    "# بررسی تعداد کل ردیف های دریافت شده\n",
    "print(f\"\\nتعداد {len(audusd_data)} کندل روزانه دریافت شد.\")\n",
    "\n",
    "# Commit for data download branch - 2025-07-30\n",
    "\n",
    "      "
   ]
  }
 ],
 "metadata": {
  "kernelspec": {
   "display_name": "algotrading",
   "language": "python",
   "name": "python3"
  },
  "language_info": {
   "codemirror_mode": {
    "name": "ipython",
    "version": 3
   },
   "file_extension": ".py",
   "mimetype": "text/x-python",
   "name": "python",
   "nbconvert_exporter": "python",
   "pygments_lexer": "ipython3",
   "version": "3.13.2"
  }
 },
 "nbformat": 4,
 "nbformat_minor": 5
}
